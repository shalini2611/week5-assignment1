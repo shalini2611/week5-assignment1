{
 "cells": [
  {
   "cell_type": "markdown",
   "id": "89bf6afa-86be-43b5-b57a-9d538fb232e0",
   "metadata": {},
   "source": [
    "## Question 1: What is an exception in python? Write the difference between Exceptions and syntax errors.\n"
   ]
  },
  {
   "cell_type": "markdown",
   "id": "01aed9ef",
   "metadata": {},
   "source": [
    "In Python, an exception is an event that occurs during the execution of a program that disrupts the normal flow of instructions. When an exception occurs, Python generates an object that represents the error, which can then be handled by the program.\n",
    "\n",
    "Exceptions in Python can be caused by a variety of factors, such as dividing by zero, referencing a non-existent variable, or opening a file that doesn't exist. Some common exceptions in Python include TypeError, ValueError, and IOError.\n",
    "\n",
    "Syntax errors, on the other hand, are errors that occur when the Python interpreter cannot understand the code that has been written. Syntax errors are usually caused by spelling mistakes, missing punctuation, or incorrect use of Python syntax. Unlike exceptions, which occur during the execution of the program, syntax errors prevent the program from running at all.\n",
    "\n",
    "The key difference between exceptions and syntax errors is that exceptions occur during the execution of a program, while syntax errors occur before the program is executed. Exceptions can be handled with try-except blocks, which allow the program to continue running despite the error, while syntax errors must be fixed before the program can be executed."
   ]
  },
  {
   "cell_type": "markdown",
   "id": "4228eb78-ad3c-4b39-9c8b-c16be1948128",
   "metadata": {},
   "source": [
    "## Question 2: What happens if exception is not handled? Explain with an example.\n"
   ]
  },
  {
   "cell_type": "markdown",
   "id": "2d9b7f82",
   "metadata": {},
   "source": [
    "If an exception is not handled in a Python program, it will cause the program to terminate abruptly and display an error message indicating the type of exception that occurred.\n",
    "\n",
    "For example, let's consider a Python program that attempts to open a file:"
   ]
  },
  {
   "cell_type": "code",
   "execution_count": 2,
   "id": "2ab76bfb",
   "metadata": {},
   "outputs": [
    {
     "name": "stdout",
     "output_type": "stream",
     "text": [
      "this will handles error \n"
     ]
    }
   ],
   "source": [
    "try :\n",
    "    f=open(\"asd.txt\",\"r\")\n",
    "    \n",
    "except :\n",
    "    print(\"this will handles error \")"
   ]
  },
  {
   "cell_type": "markdown",
   "id": "94f8e040",
   "metadata": {},
   "source": [
    "In this program, the code inside the try block attempts to open a file named \"example.txt\" in read mode. If the file does not exist or cannot be opened for some reason, an exception will be raised.\n",
    "\n",
    "In the except block, we have a simple error handling mechanism that prints a generic error message if an exception occurs. This allows the program to continue running, even if the file cannot be opened.\n",
    "\n",
    "However, if we remove the except block from the program, the exception will not be handled, and the program will terminate abruptly with an error message:"
   ]
  },
  {
   "cell_type": "code",
   "execution_count": 3,
   "id": "7420fc5d",
   "metadata": {},
   "outputs": [
    {
     "ename": "FileNotFoundError",
     "evalue": "[Errno 2] No such file or directory: 'abc.txt'",
     "output_type": "error",
     "traceback": [
      "\u001b[0;31m---------------------------------------------------------------------------\u001b[0m",
      "\u001b[0;31mFileNotFoundError\u001b[0m                         Traceback (most recent call last)",
      "Cell \u001b[0;32mIn[3], line 1\u001b[0m\n\u001b[0;32m----> 1\u001b[0m f\u001b[38;5;241m=\u001b[39m\u001b[38;5;28;43mopen\u001b[39;49m\u001b[43m(\u001b[49m\u001b[38;5;124;43m\"\u001b[39;49m\u001b[38;5;124;43mabc.txt\u001b[39;49m\u001b[38;5;124;43m\"\u001b[39;49m\u001b[43m,\u001b[49m\u001b[38;5;124;43m\"\u001b[39;49m\u001b[38;5;124;43mr\u001b[39;49m\u001b[38;5;124;43m\"\u001b[39;49m\u001b[43m)\u001b[49m\n",
      "File \u001b[0;32m/opt/conda/lib/python3.10/site-packages/IPython/core/interactiveshell.py:282\u001b[0m, in \u001b[0;36m_modified_open\u001b[0;34m(file, *args, **kwargs)\u001b[0m\n\u001b[1;32m    275\u001b[0m \u001b[38;5;28;01mif\u001b[39;00m file \u001b[38;5;129;01min\u001b[39;00m {\u001b[38;5;241m0\u001b[39m, \u001b[38;5;241m1\u001b[39m, \u001b[38;5;241m2\u001b[39m}:\n\u001b[1;32m    276\u001b[0m     \u001b[38;5;28;01mraise\u001b[39;00m \u001b[38;5;167;01mValueError\u001b[39;00m(\n\u001b[1;32m    277\u001b[0m         \u001b[38;5;124mf\u001b[39m\u001b[38;5;124m\"\u001b[39m\u001b[38;5;124mIPython won\u001b[39m\u001b[38;5;124m'\u001b[39m\u001b[38;5;124mt let you open fd=\u001b[39m\u001b[38;5;132;01m{\u001b[39;00mfile\u001b[38;5;132;01m}\u001b[39;00m\u001b[38;5;124m by default \u001b[39m\u001b[38;5;124m\"\u001b[39m\n\u001b[1;32m    278\u001b[0m         \u001b[38;5;124m\"\u001b[39m\u001b[38;5;124mas it is likely to crash IPython. If you know what you are doing, \u001b[39m\u001b[38;5;124m\"\u001b[39m\n\u001b[1;32m    279\u001b[0m         \u001b[38;5;124m\"\u001b[39m\u001b[38;5;124myou can use builtins\u001b[39m\u001b[38;5;124m'\u001b[39m\u001b[38;5;124m open.\u001b[39m\u001b[38;5;124m\"\u001b[39m\n\u001b[1;32m    280\u001b[0m     )\n\u001b[0;32m--> 282\u001b[0m \u001b[38;5;28;01mreturn\u001b[39;00m \u001b[43mio_open\u001b[49m\u001b[43m(\u001b[49m\u001b[43mfile\u001b[49m\u001b[43m,\u001b[49m\u001b[43m \u001b[49m\u001b[38;5;241;43m*\u001b[39;49m\u001b[43margs\u001b[49m\u001b[43m,\u001b[49m\u001b[43m \u001b[49m\u001b[38;5;241;43m*\u001b[39;49m\u001b[38;5;241;43m*\u001b[39;49m\u001b[43mkwargs\u001b[49m\u001b[43m)\u001b[49m\n",
      "\u001b[0;31mFileNotFoundError\u001b[0m: [Errno 2] No such file or directory: 'abc.txt'"
     ]
    }
   ],
   "source": [
    "f=open(\"abc.txt\",\"r\")\n"
   ]
  },
  {
   "cell_type": "markdown",
   "id": "b81fb38f",
   "metadata": {},
   "source": [
    "In this case, the FileNotFoundError exception occurred because the file \"example.txt\" does not exist in the directory where the program is running. Since the exception was not handled, the program terminated abruptly, and the error message was displayed.\n",
    "\n",
    "It is generally a good practice to handle exceptions in Python programs to prevent them from crashing and provide useful feedback to users in case something goes wrong."
   ]
  },
  {
   "cell_type": "markdown",
   "id": "7fb04021-23e6-4648-bcad-a85e728b3781",
   "metadata": {},
   "source": [
    "## Question 3: Which Python Statements are used to catch and handle exceptions? Explain with an example.\n"
   ]
  },
  {
   "cell_type": "markdown",
   "id": "7a1c93f4",
   "metadata": {},
   "source": [
    "In Python, you can handle exceptions using the try and except statements. The try statement lets you test a block of code for errors, and the except statement lets you handle those errors gracefully.\n",
    "\n",
    "Here's an example:\n",
    "\n"
   ]
  },
  {
   "cell_type": "code",
   "execution_count": 7,
   "id": "90b54278",
   "metadata": {},
   "outputs": [
    {
     "name": "stdin",
     "output_type": "stream",
     "text": [
      "enter your number 0\n"
     ]
    },
    {
     "name": "stdout",
     "output_type": "stream",
     "text": [
      "you cannot divide by zero\n"
     ]
    }
   ],
   "source": [
    "try :\n",
    "    a=int(input(\"enter your number\"))\n",
    "    b=125/a\n",
    "    print(\"b=\",b)\n",
    "    \n",
    "except ZeroDivisionError :\n",
    "    print(\"you cannot divide by zero\")\n",
    "    \n",
    "except ValueError :\n",
    "    print(\"you must enter a valid number\")"
   ]
  },
  {
   "cell_type": "markdown",
   "id": "9e7892d1-4b04-4740-85a4-b138696f456c",
   "metadata": {},
   "source": [
    "# Question 4 : Explain with an example:\n",
    "1. Try and else\n",
    "2. finally\n",
    "3. raise\n"
   ]
  },
  {
   "cell_type": "markdown",
   "id": "7a351a54",
   "metadata": {},
   "source": [
    "1. try and else statement:\n",
    "The try and else statement is used to catch and handle exceptions in Python. The try block is used to execute the code that may raise an exception, and the else block is used to execute the code that should be executed if the try block doesn't raise any exception. Here is an example:\n",
    "\n"
   ]
  },
  {
   "cell_type": "code",
   "execution_count": 8,
   "id": "3b9624d4",
   "metadata": {},
   "outputs": [
    {
     "name": "stdout",
     "output_type": "stream",
     "text": [
      "the file does not exist\n"
     ]
    }
   ],
   "source": [
    "try :\n",
    "    f=open(\"def.txt\",\"r\")\n",
    "    \n",
    "except :\n",
    "    print(\"the file does not exist\")\n",
    "    \n",
    "else :\n",
    "    print(\"the file exist \")"
   ]
  },
  {
   "cell_type": "markdown",
   "id": "ec796e30",
   "metadata": {},
   "source": [
    "2. finally statement:\n",
    "The finally statement is used to define a block of code that should be executed regardless of whether an exception is raised or not. Here is an example:"
   ]
  },
  {
   "cell_type": "code",
   "execution_count": 9,
   "id": "f59c2543",
   "metadata": {},
   "outputs": [],
   "source": [
    "f=open(\"aqw.txt\",\"w\")\n",
    "f.write(\"data science masters\")\n",
    "f.close()"
   ]
  },
  {
   "cell_type": "code",
   "execution_count": 11,
   "id": "a200ebb4",
   "metadata": {},
   "outputs": [
    {
     "name": "stdout",
     "output_type": "stream",
     "text": [
      "data science masters\n",
      "finally block will always be executed irrespective of amy other thing that executed or not\n"
     ]
    }
   ],
   "source": [
    "try :\n",
    "    f=open(\"aqw.txt\",\"r\")\n",
    "    a=f.read()\n",
    "    \n",
    "except :\n",
    "    print(\"the file does not exist\")\n",
    "    \n",
    "else :\n",
    "    print(a)\n",
    "    \n",
    "finally :\n",
    "    print(\"finally block will always be executed irrespective of amy other thing that executed or not\")"
   ]
  },
  {
   "cell_type": "code",
   "execution_count": 12,
   "id": "93616577",
   "metadata": {},
   "outputs": [
    {
     "name": "stdout",
     "output_type": "stream",
     "text": [
      "the file does not exist\n",
      "this finally block is always executed irrespective of anything\n"
     ]
    }
   ],
   "source": [
    "try :\n",
    "    f=open(\"aqz.txt\",\"r\")\n",
    "    a=f.read()\n",
    "    \n",
    "except :\n",
    "    print(\"the file does not exist\")\n",
    "    \n",
    "else :\n",
    "    print(a)\n",
    "    \n",
    "finally :\n",
    "    print(\"this finally block is always executed irrespective of anything\")"
   ]
  },
  {
   "cell_type": "markdown",
   "id": "3e945118",
   "metadata": {},
   "source": [
    "3. raise statement:"
   ]
  },
  {
   "cell_type": "markdown",
   "id": "bb99941d",
   "metadata": {},
   "source": [
    "The raise statement is used to raise an exception in Python. You can use it to raise a predefined exception, or you can define your own custom exception. Here is an example:\n",
    "\n",
    "\n"
   ]
  },
  {
   "cell_type": "code",
   "execution_count": 14,
   "id": "52ca06ae",
   "metadata": {},
   "outputs": [
    {
     "name": "stdin",
     "output_type": "stream",
     "text": [
      "enter a number 90\n",
      "enter a number again 0\n"
     ]
    },
    {
     "name": "stdout",
     "output_type": "stream",
     "text": [
      "the second number cannot be zero\n"
     ]
    }
   ],
   "source": [
    "def func(a,b):\n",
    "    if b==0 :\n",
    "        raise ValueError(\"the second number cannot be zero\")\n",
    "    else :\n",
    "        return a/b\n",
    "    \n",
    "a=int(input(\"enter a number\"))\n",
    "b=int(input(\"enter a number again\"))\n",
    "\n",
    "try :\n",
    "    x=func(a,b)\n",
    "    \n",
    "except :\n",
    "    print(\"the second number cannot be zero\")\n",
    "    \n",
    "else :\n",
    "    print(x)"
   ]
  },
  {
   "cell_type": "code",
   "execution_count": 15,
   "id": "25b7cf52",
   "metadata": {},
   "outputs": [
    {
     "name": "stdin",
     "output_type": "stream",
     "text": [
      "enter a number 4\n",
      "enter a number again 2\n"
     ]
    },
    {
     "name": "stdout",
     "output_type": "stream",
     "text": [
      "2.0\n"
     ]
    }
   ],
   "source": [
    "def func(a,b):\n",
    "    if b==0 :\n",
    "        raise ValueError(\"the second number cannot be zero\")\n",
    "    else :\n",
    "        return a/b\n",
    "    \n",
    "a=int(input(\"enter a number\"))\n",
    "b=int(input(\"enter a number again\"))\n",
    "\n",
    "try :\n",
    "    x=func(a,b)\n",
    "    \n",
    "except :\n",
    "    print(\"the second number cannot be zero\")\n",
    "    \n",
    "else :\n",
    "    print(x)"
   ]
  },
  {
   "cell_type": "markdown",
   "id": "088fb409-81a3-46b3-9f65-93afd8c5456d",
   "metadata": {},
   "source": [
    "## Question 5 : What are custom Exceptions in python ? Why do we need Custom Exceptions? Explain with an Example.\n"
   ]
  },
  {
   "cell_type": "markdown",
   "id": "8e4276a7",
   "metadata": {},
   "source": [
    "In Python, custom exceptions are user-defined exceptions that extend the base Exception class. They allow you to create your own exception types with customized error messages and behaviors.\n",
    "\n",
    "We need custom exceptions in Python to provide more specific and meaningful error messages to the user, especially in larger programs where errors may occur in multiple places. Custom exceptions also make it easier to handle specific errors in different ways.\n",
    "\n",
    "Here's an example of a custom exception in Python:\n",
    "\n"
   ]
  },
  {
   "cell_type": "code",
   "execution_count": 4,
   "id": "da8f73c4",
   "metadata": {},
   "outputs": [
    {
     "name": "stdout",
     "output_type": "stream",
     "text": [
      "enter a number9\n",
      "3.0\n",
      "doesn't matter code is correct or incorrect the finally block is always executed\n"
     ]
    }
   ],
   "source": [
    "class NegativeNumberError(Exception):\n",
    "    pass\n",
    "\n",
    "def func(a):\n",
    "    if a <0 :\n",
    "        raise NegativeNumberError(\"the number cannot be negative\")\n",
    "    return pow(a,0.5)\n",
    "\n",
    "a=int(input(\"enter a number\"))\n",
    "\n",
    "try :\n",
    "    func(a)\n",
    "    \n",
    "except NegativeNumberError as e :\n",
    "    print(e)\n",
    "    \n",
    "else :\n",
    "    print(func(a))\n",
    "    \n",
    "finally :\n",
    "    print(\"doesn't matter code is correct or incorrect the finally block is always executed\")"
   ]
  },
  {
   "cell_type": "code",
   "execution_count": 5,
   "id": "98fcd673",
   "metadata": {},
   "outputs": [
    {
     "name": "stdout",
     "output_type": "stream",
     "text": [
      "enter a number-111\n",
      "the number cannot be negative\n",
      "doesn't matter code is correct or incorrect the finally block is always executed\n"
     ]
    }
   ],
   "source": [
    "class NegativeNumberError(Exception):\n",
    "    pass\n",
    "\n",
    "def func(a):\n",
    "    if a <0 :\n",
    "        raise NegativeNumberError(\"the number cannot be negative\")\n",
    "    return pow(a,0.5)\n",
    "\n",
    "a=int(input(\"enter a number\"))\n",
    "\n",
    "try :\n",
    "    func(a)\n",
    "    \n",
    "except NegativeNumberError as e :\n",
    "    print(e)\n",
    "    \n",
    "else :\n",
    "    print(func(a))\n",
    "    \n",
    "finally :\n",
    "    print(\"doesn't matter code is correct or incorrect the finally block is always executed\")"
   ]
  },
  {
   "cell_type": "markdown",
   "id": "9c305db2-107d-4591-8a96-3ef2d4046920",
   "metadata": {},
   "source": [
    "## Question 6 : Create a custom exception class . Use this class to handle exception\n"
   ]
  },
  {
   "cell_type": "code",
   "execution_count": 9,
   "id": "2ae58a62",
   "metadata": {},
   "outputs": [],
   "source": [
    "class validateage(Exception):\n",
    "    def __init__(self,msg):\n",
    "        self.msg=msg"
   ]
  },
  {
   "cell_type": "code",
   "execution_count": 14,
   "id": "ce83375c",
   "metadata": {},
   "outputs": [
    {
     "name": "stdout",
     "output_type": "stream",
     "text": [
      "enter your age 999\n",
      "age is out of range \n",
      "assignment completed\n"
     ]
    }
   ],
   "source": [
    "def validate_age(age):\n",
    "    if age<0 :\n",
    "        raise validateage(\"age cannot be negative\")\n",
    "        \n",
    "    elif age>120 :\n",
    "        raise validateage(\"age is out of range \")\n",
    "        \n",
    "    else :\n",
    "        raise validateage(\"age is valid\")\n",
    "        \n",
    "try :\n",
    "    age=int(input('enter your age '))\n",
    "    validate_age(age)\n",
    "    \n",
    "except validateage as e :\n",
    "    print(e)\n",
    "    \n",
    "else :\n",
    "    print(validate_age(age))\n",
    "    \n",
    "finally :\n",
    "    print(\"assignment completed\")"
   ]
  },
  {
   "cell_type": "code",
   "execution_count": null,
   "id": "677c1a08",
   "metadata": {},
   "outputs": [],
   "source": []
  }
 ],
 "metadata": {
  "kernelspec": {
   "display_name": "Python 3 (ipykernel)",
   "language": "python",
   "name": "python3"
  },
  "language_info": {
   "codemirror_mode": {
    "name": "ipython",
    "version": 3
   },
   "file_extension": ".py",
   "mimetype": "text/x-python",
   "name": "python",
   "nbconvert_exporter": "python",
   "pygments_lexer": "ipython3",
   "version": "3.10.8"
  }
 },
 "nbformat": 4,
 "nbformat_minor": 5
}
